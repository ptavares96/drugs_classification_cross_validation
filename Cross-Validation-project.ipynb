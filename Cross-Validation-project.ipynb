{
 "cells": [
  {
   "cell_type": "markdown",
   "id": "50421390",
   "metadata": {},
   "source": [
    "# Avaliação de um modelo de Machine Learning por Cross Validation\n"
   ]
  },
  {
   "attachments": {},
   "cell_type": "markdown",
   "id": "ad201d92",
   "metadata": {},
   "source": [
    "<center><img alt=\"Colaboratory logo\" width=\"50%\" src=\"https://cdn-images-1.medium.com/max/800/0*XJRuatmI2xNAeo3G\"></center>\n",
    "\n",
    "No fim de um projeto de machine learning sempre há uma dúvida sobre a performance do modelo estabelecido. Para isso é necessário usar as métricas para essa avaliação. Na biblioteca scikit-learn é encontrada uma variedade de métricas para uso. Essas métricas são utilizadas após o uso do modelo nos dados de testes.\n",
    "No momento após uma análise dos dados e antes do modelo é realizada uma separação dos dados. Os dados são separados em dados de treino, esses usados para o treinamento do modelo, e dados de testes usados para avaliação do modelo. É necessário adotar a filosofia de que os dados de teste apenas podem ter contato com o modelo no fim.\n",
    "\n",
    "<center><img alt=\"Colaboratory logo\" width=\"50%\" src=\"https://cdn-images-1.medium.com/max/800/0*gL6qcIydcIngI998\"></center>\n",
    "\n",
    "O contato dos dados de testes anteriores podem influenciar o modelo gerando overfitting. Overfitting é definido como um ajuste forçado no modelo para que ele se adeque ao resultado esperado. Ao trabalhar com Machine Learning procura-se um modelo que seja robusto, pois o modelo precisa corresponder a uma realidade de vários dados.\n",
    "\n",
    "<center><img alt=\"Colaboratory logo\" width=\"50%\" src=\"https://cdn-images-1.medium.com/max/800/0*QSEG7OIth-1bzISX\"></center>\n",
    "\n",
    "## Cross-Validation\n",
    "Cross-validation é uma técnica realizada para avaliação do desempenho do modelo. A diferença está que ele avalia o modelo particionando os dados de treino. Ele participa dos dados de treino em dados de treino e validação. Utilizando-se do método K-fold os dados de treino são divididos em subconjuntos. Os dados são divididos em k subconjuntos que a cada iteração um subconjunto é usado para avaliação. Assim é garantido que cada subconjunto seja avaliado.\n",
    "\n",
    "<center><img alt=\"Colaboratory logo\" width=\"50%\" src=\"https://cdn-images-1.medium.com/max/800/0*LpRHpz0UT0y4k83L\"></center>\n",
    "\n",
    "Imaginamos o caso de 5-folds no cross-validation. Os dados de treino são divididos em 5 partes. Na primeira iteração uma parte será usada para validação e o restante para treinamento, assim gerando em uma métrica de avaliação. Na segunda iteração a segunda parte será usada para validação o restante para treinamento e assim sucessivamente como mostrado na figura acima.\n",
    "\n",
    "\n",
    "## Classificação de medicamentos\n",
    "\n",
    "\n",
    "<center><img alt=\"Colaboratory logo\" width=\"50%\" src=\"https://cdn-images-1.medium.com/max/800/0*WxhyhrplJT0HIcO-\"></center>\n",
    "\n",
    "O problema aqui abordado será a classificação de medicamentos. Aqui vamos aplicar três modelos de classificadores e avaliá-los por Cross-Validation. Os modelos são: RandomForest, K-neighbors e LogisticRegression. A patir dos resultados decidimos qual o melhor modelo para ser usado nos dados de testes."
   ]
  },
  {
   "cell_type": "code",
   "execution_count": 147,
   "id": "954b253b",
   "metadata": {},
   "outputs": [],
   "source": [
    "# importando bibliotecas utilizadas\n",
    "import pandas as pd\n",
    "import numpy as np\n",
    "import matplotlib.pyplot as plt\n",
    "import seaborn as sns\n",
    "import warnings\n",
    "warnings.filterwarnings('ignore')\n",
    "\n",
    "# importando bibliotecas de machinelearning\n",
    "from sklearn.model_selection import train_test_split, cross_val_score\n",
    "from sklearn.metrics import classification_report\n",
    "from sklearn.metrics import confusion_matrix\n",
    "from sklearn.metrics import roc_auc_score, roc_curve, accuracy_score\n",
    "from sklearn.ensemble import RandomForestClassifier\n",
    "from sklearn.neighbors import KNeighborsClassifier\n",
    "from sklearn.linear_model import LogisticRegression\n",
    "from sklearn.preprocessing import LabelEncoder\n",
    "from sklearn.preprocessing import MinMaxScaler"
   ]
  },
  {
   "cell_type": "markdown",
   "id": "f7830d9d",
   "metadata": {},
   "source": [
    "Após a seleção das bibliotecas vamos para a importação dos dados. Esses dados foram obtidos no banco de dados do Kaggle."
   ]
  },
  {
   "cell_type": "code",
   "execution_count": 3,
   "id": "117bcd6f",
   "metadata": {},
   "outputs": [
    {
     "name": "stdout",
     "output_type": "stream",
     "text": [
      "Dimensões do dataset:\n",
      "\n",
      "Quantidade de variáveis (colunas):\t 6\n",
      "Quantidade de entradas (linhas):\t 200\n",
      "\n",
      "Leitura das cinco primeiras entradas do conjunto\n",
      "\n"
     ]
    },
    {
     "data": {
      "text/html": [
       "<div>\n",
       "<style scoped>\n",
       "    .dataframe tbody tr th:only-of-type {\n",
       "        vertical-align: middle;\n",
       "    }\n",
       "\n",
       "    .dataframe tbody tr th {\n",
       "        vertical-align: top;\n",
       "    }\n",
       "\n",
       "    .dataframe thead th {\n",
       "        text-align: right;\n",
       "    }\n",
       "</style>\n",
       "<table border=\"1\" class=\"dataframe\">\n",
       "  <thead>\n",
       "    <tr style=\"text-align: right;\">\n",
       "      <th></th>\n",
       "      <th>Age</th>\n",
       "      <th>Sex</th>\n",
       "      <th>BP</th>\n",
       "      <th>Cholesterol</th>\n",
       "      <th>Na_to_K</th>\n",
       "      <th>Drug</th>\n",
       "    </tr>\n",
       "  </thead>\n",
       "  <tbody>\n",
       "    <tr>\n",
       "      <th>0</th>\n",
       "      <td>23</td>\n",
       "      <td>F</td>\n",
       "      <td>HIGH</td>\n",
       "      <td>HIGH</td>\n",
       "      <td>25.355</td>\n",
       "      <td>DrugY</td>\n",
       "    </tr>\n",
       "    <tr>\n",
       "      <th>1</th>\n",
       "      <td>47</td>\n",
       "      <td>M</td>\n",
       "      <td>LOW</td>\n",
       "      <td>HIGH</td>\n",
       "      <td>13.093</td>\n",
       "      <td>drugC</td>\n",
       "    </tr>\n",
       "    <tr>\n",
       "      <th>2</th>\n",
       "      <td>47</td>\n",
       "      <td>M</td>\n",
       "      <td>LOW</td>\n",
       "      <td>HIGH</td>\n",
       "      <td>10.114</td>\n",
       "      <td>drugC</td>\n",
       "    </tr>\n",
       "    <tr>\n",
       "      <th>3</th>\n",
       "      <td>28</td>\n",
       "      <td>F</td>\n",
       "      <td>NORMAL</td>\n",
       "      <td>HIGH</td>\n",
       "      <td>7.798</td>\n",
       "      <td>drugX</td>\n",
       "    </tr>\n",
       "    <tr>\n",
       "      <th>4</th>\n",
       "      <td>61</td>\n",
       "      <td>F</td>\n",
       "      <td>LOW</td>\n",
       "      <td>HIGH</td>\n",
       "      <td>18.043</td>\n",
       "      <td>DrugY</td>\n",
       "    </tr>\n",
       "  </tbody>\n",
       "</table>\n",
       "</div>"
      ],
      "text/plain": [
       "   Age Sex      BP Cholesterol  Na_to_K   Drug\n",
       "0   23   F    HIGH        HIGH   25.355  DrugY\n",
       "1   47   M     LOW        HIGH   13.093  drugC\n",
       "2   47   M     LOW        HIGH   10.114  drugC\n",
       "3   28   F  NORMAL        HIGH    7.798  drugX\n",
       "4   61   F     LOW        HIGH   18.043  DrugY"
      ]
     },
     "execution_count": 3,
     "metadata": {},
     "output_type": "execute_result"
    }
   ],
   "source": [
    "# importando os dados\n",
    "\n",
    "DATA_PATH = \"https://raw.githubusercontent.com/ptavares96/drugs_classification_cross_validation/main/drug200.csv\"\n",
    "\n",
    "df = pd.read_csv(DATA_PATH)\n",
    "\n",
    "# dimensões e primeiras entradas\n",
    "print( 'Dimensões do dataset:\\n')\n",
    "print( 'Quantidade de variáveis (colunas):\\t {}'.format(df.shape[1]))\n",
    "print( 'Quantidade de entradas (linhas):\\t {}'.format(df.shape[0]))\n",
    "print( '\\nLeitura das cinco primeiras entradas do conjunto\\n')\n",
    "df.head()"
   ]
  },
  {
   "cell_type": "code",
   "execution_count": 4,
   "id": "bea154c8",
   "metadata": {},
   "outputs": [
    {
     "name": "stdout",
     "output_type": "stream",
     "text": [
      "Checagem do fim das últimas linhas dos dodos:\n",
      "\n"
     ]
    },
    {
     "data": {
      "text/html": [
       "<div>\n",
       "<style scoped>\n",
       "    .dataframe tbody tr th:only-of-type {\n",
       "        vertical-align: middle;\n",
       "    }\n",
       "\n",
       "    .dataframe tbody tr th {\n",
       "        vertical-align: top;\n",
       "    }\n",
       "\n",
       "    .dataframe thead th {\n",
       "        text-align: right;\n",
       "    }\n",
       "</style>\n",
       "<table border=\"1\" class=\"dataframe\">\n",
       "  <thead>\n",
       "    <tr style=\"text-align: right;\">\n",
       "      <th></th>\n",
       "      <th>Age</th>\n",
       "      <th>Sex</th>\n",
       "      <th>BP</th>\n",
       "      <th>Cholesterol</th>\n",
       "      <th>Na_to_K</th>\n",
       "      <th>Drug</th>\n",
       "    </tr>\n",
       "  </thead>\n",
       "  <tbody>\n",
       "    <tr>\n",
       "      <th>197</th>\n",
       "      <td>52</td>\n",
       "      <td>M</td>\n",
       "      <td>NORMAL</td>\n",
       "      <td>HIGH</td>\n",
       "      <td>9.894</td>\n",
       "      <td>drugX</td>\n",
       "    </tr>\n",
       "    <tr>\n",
       "      <th>198</th>\n",
       "      <td>23</td>\n",
       "      <td>M</td>\n",
       "      <td>NORMAL</td>\n",
       "      <td>NORMAL</td>\n",
       "      <td>14.020</td>\n",
       "      <td>drugX</td>\n",
       "    </tr>\n",
       "    <tr>\n",
       "      <th>199</th>\n",
       "      <td>40</td>\n",
       "      <td>F</td>\n",
       "      <td>LOW</td>\n",
       "      <td>NORMAL</td>\n",
       "      <td>11.349</td>\n",
       "      <td>drugX</td>\n",
       "    </tr>\n",
       "  </tbody>\n",
       "</table>\n",
       "</div>"
      ],
      "text/plain": [
       "     Age Sex      BP Cholesterol  Na_to_K   Drug\n",
       "197   52   M  NORMAL        HIGH    9.894  drugX\n",
       "198   23   M  NORMAL      NORMAL   14.020  drugX\n",
       "199   40   F     LOW      NORMAL   11.349  drugX"
      ]
     },
     "execution_count": 4,
     "metadata": {},
     "output_type": "execute_result"
    }
   ],
   "source": [
    "# checagem do fim dos dados para verficar se há alguma entrada de totias ou sub-totais\n",
    "print(\"Checagem do fim das últimas linhas dos dodos:\\n\")\n",
    "df.tail(3)"
   ]
  },
  {
   "cell_type": "markdown",
   "id": "268ec528",
   "metadata": {},
   "source": [
    "### Análise exploratória"
   ]
  },
  {
   "cell_type": "markdown",
   "id": "4029107e",
   "metadata": {},
   "source": [
    "\n",
    "#### Dicionário de variáveis:\n"
   ]
  },
  {
   "cell_type": "code",
   "execution_count": 7,
   "id": "52192733",
   "metadata": {},
   "outputs": [
    {
     "data": {
      "text/plain": [
       "Index(['Age', 'Sex', 'BP', 'Cholesterol', 'Na_to_K', 'Drug'], dtype='object')"
      ]
     },
     "execution_count": 7,
     "metadata": {},
     "output_type": "execute_result"
    }
   ],
   "source": [
    "# dicionário das variáveis\n",
    "df.columns"
   ]
  },
  {
   "cell_type": "code",
   "execution_count": 11,
   "id": "8201cf92",
   "metadata": {},
   "outputs": [
    {
     "name": "stdout",
     "output_type": "stream",
     "text": [
      "Valores presentes na variável Sex\n",
      "['F' 'M']\n",
      "\n",
      "Valores presentes na variável BP\n",
      "['HIGH' 'LOW' 'NORMAL']\n",
      "\n",
      "Valores presentes na variável Cholesterol\n",
      "['HIGH' 'NORMAL']\n",
      "\n",
      "Valores presentes na variável Drug\n",
      "['DrugY' 'drugC' 'drugX' 'drugA' 'drugB']\n"
     ]
    }
   ],
   "source": [
    "print('Valores presentes na variável Sex')\n",
    "print(df['Sex'].unique())\n",
    "\n",
    "print('\\nValores presentes na variável BP')\n",
    "print(df['BP'].unique())\n",
    "\n",
    "print('\\nValores presentes na variável Cholesterol')\n",
    "print(df['Cholesterol'].unique())\n",
    "\n",
    "print('\\nValores presentes na variável Drug')\n",
    "print(df['Drug'].unique())"
   ]
  },
  {
   "cell_type": "markdown",
   "id": "ad32a61a",
   "metadata": {},
   "source": [
    "[Age]: corresponde as idades dos indíviduos. \n",
    "\n",
    "[Sex]: o sexo dos indivíduos e possuem valores 'M' e 'F'\n",
    "\n",
    "[BP]: ou blood-peasure corresponde a pressão arterial e possui as entradas ['HIGH' 'LOW' 'NORMAL'].\n",
    "\n",
    "[Cholesterol]: respresenta o colesterol dos individuos e possui as entradas ['HIGH' 'NORMAL']\n",
    "\n",
    "[Na_to_K]: representa a razão da concentração de sódio e potássio nos indivíduos. \n",
    "\n",
    "[Drug]: esta é a variável alvo que apresenta os medicamentos que cada indivíduo utiliza e possui as entradas ['DrugY' 'drugC' 'drugX' 'drugA' 'drugB']."
   ]
  },
  {
   "cell_type": "code",
   "execution_count": 15,
   "id": "cf8b93bc",
   "metadata": {},
   "outputs": [
    {
     "name": "stdout",
     "output_type": "stream",
     "text": [
      "Valores ausentes:\n",
      "\n"
     ]
    },
    {
     "data": {
      "text/plain": [
       "Age            0.0\n",
       "Sex            0.0\n",
       "BP             0.0\n",
       "Cholesterol    0.0\n",
       "Na_to_K        0.0\n",
       "Drug           0.0\n",
       "dtype: float64"
      ]
     },
     "execution_count": 15,
     "metadata": {},
     "output_type": "execute_result"
    }
   ],
   "source": [
    "# ordenar em ordem decrescente as variáveis por seus valores ausentes\n",
    "print('Valores ausentes:\\n')\n",
    "(df.isnull().sum()/df.shape[0]).sort_values(ascending = False)"
   ]
  },
  {
   "cell_type": "markdown",
   "id": "7a4c1d45",
   "metadata": {},
   "source": [
    "Entendendo um pouco mais desses dados é visto que não há valores ausentes. Também, vamos verificar a distribuição da idade dos indivíduos."
   ]
  },
  {
   "cell_type": "code",
   "execution_count": 37,
   "id": "8d2408e7",
   "metadata": {},
   "outputs": [
    {
     "data": {
      "image/png": "[encoded data removed]",
      "text/plain": [
       "<Figure size 1200x600 with 1 Axes>"
      ]
     },
     "metadata": {},
     "output_type": "display_data"
    }
   ],
   "source": [
    "# plotar o histograma das variáveis numéricas\n",
    "sns.set_theme(style=\"white\", palette=\"Blues_d\")\n",
    "\n",
    "fig, ax = plt.subplots(figsize=(12,6))\n",
    "\n",
    "ax.hist(df.Age ,bins=15);\n",
    "ax.set_title('Histograma da idade dos indivíduos', loc ='left', fontsize=18)\n",
    "ax.set_xlabel('Idade', fontsize = 12)\n",
    "ax.set_ylabel('Número de indivíduos', fontsize = 12)\n",
    "sns.despine()"
   ]
  },
  {
   "cell_type": "code",
   "execution_count": 38,
   "id": "b70df28e",
   "metadata": {},
   "outputs": [
    {
     "data": {
      "text/html": [
       "<div>\n",
       "<style scoped>\n",
       "    .dataframe tbody tr th:only-of-type {\n",
       "        vertical-align: middle;\n",
       "    }\n",
       "\n",
       "    .dataframe tbody tr th {\n",
       "        vertical-align: top;\n",
       "    }\n",
       "\n",
       "    .dataframe thead th {\n",
       "        text-align: right;\n",
       "    }\n",
       "</style>\n",
       "<table border=\"1\" class=\"dataframe\">\n",
       "  <thead>\n",
       "    <tr style=\"text-align: right;\">\n",
       "      <th></th>\n",
       "      <th>Age</th>\n",
       "      <th>Na_to_K</th>\n",
       "    </tr>\n",
       "  </thead>\n",
       "  <tbody>\n",
       "    <tr>\n",
       "      <th>count</th>\n",
       "      <td>200.000000</td>\n",
       "      <td>200.000000</td>\n",
       "    </tr>\n",
       "    <tr>\n",
       "      <th>mean</th>\n",
       "      <td>44.315000</td>\n",
       "      <td>16.084485</td>\n",
       "    </tr>\n",
       "    <tr>\n",
       "      <th>std</th>\n",
       "      <td>16.544315</td>\n",
       "      <td>7.223956</td>\n",
       "    </tr>\n",
       "    <tr>\n",
       "      <th>min</th>\n",
       "      <td>15.000000</td>\n",
       "      <td>6.269000</td>\n",
       "    </tr>\n",
       "    <tr>\n",
       "      <th>25%</th>\n",
       "      <td>31.000000</td>\n",
       "      <td>10.445500</td>\n",
       "    </tr>\n",
       "    <tr>\n",
       "      <th>50%</th>\n",
       "      <td>45.000000</td>\n",
       "      <td>13.936500</td>\n",
       "    </tr>\n",
       "    <tr>\n",
       "      <th>75%</th>\n",
       "      <td>58.000000</td>\n",
       "      <td>19.380000</td>\n",
       "    </tr>\n",
       "    <tr>\n",
       "      <th>max</th>\n",
       "      <td>74.000000</td>\n",
       "      <td>38.247000</td>\n",
       "    </tr>\n",
       "  </tbody>\n",
       "</table>\n",
       "</div>"
      ],
      "text/plain": [
       "              Age     Na_to_K\n",
       "count  200.000000  200.000000\n",
       "mean    44.315000   16.084485\n",
       "std     16.544315    7.223956\n",
       "min     15.000000    6.269000\n",
       "25%     31.000000   10.445500\n",
       "50%     45.000000   13.936500\n",
       "75%     58.000000   19.380000\n",
       "max     74.000000   38.247000"
      ]
     },
     "execution_count": 38,
     "metadata": {},
     "output_type": "execute_result"
    }
   ],
   "source": [
    "df.describe()"
   ]
  },
  {
   "cell_type": "code",
   "execution_count": 33,
   "id": "d6c44e8e",
   "metadata": {},
   "outputs": [
    {
     "data": {
      "image/png": "[encoded data removed]",
      "text/plain": [
       "<Figure size 1200x600 with 1 Axes>"
      ]
     },
     "metadata": {},
     "output_type": "display_data"
    }
   ],
   "source": [
    "sns.set_theme(style=\"white\", palette=\"Blues_d\")\n",
    "\n",
    "\n",
    "drugs_count = df.Drug.value_counts()/df.shape[0]*100\n",
    "\n",
    "fig, ax = plt.subplots(figsize=(12,6))\n",
    "ax = sns.barplot(x=drugs_count.index, y=drugs_count.values)\n",
    "\n",
    "ax.set_title('Porcentagem (%) de usuários para cada medicamento', loc='left', fontsize=18)\n",
    "ax.set_xlabel('Medicamento', fontsize = 12)\n",
    "ax.set_ylabel('Porcentagem (%)', fontsize = 12)\n",
    "sns.despine()"
   ]
  },
  {
   "cell_type": "markdown",
   "id": "4e9d265c",
   "metadata": {},
   "source": [
    "A idade mínima dos indivíduos nesses dados é de 15 anos e a maior idade é 74. É visto que a DrugY é a mais utilizada pelos usuários presentes nesses dados.\n"
   ]
  },
  {
   "cell_type": "markdown",
   "id": "0f3e8f86",
   "metadata": {},
   "source": [
    "### Aplicação do modelo de Machine Learning"
   ]
  },
  {
   "cell_type": "markdown",
   "id": "e1d8f870",
   "metadata": {},
   "source": [
    "Será seguido alguns passos até a aplicação do modelo de K-nearest neighbours. \n",
    "#### 1. Label enconder das variáveis\n",
    "\n",
    "Como alguma variáveis dentro desses dados e principalmente a variável alvo são categóricas é necessário transforma-las em variáveis númericas."
   ]
  },
  {
   "cell_type": "code",
   "execution_count": 27,
   "id": "30a20456",
   "metadata": {},
   "outputs": [],
   "source": [
    "df_new = df.copy()"
   ]
  },
  {
   "cell_type": "code",
   "execution_count": 28,
   "id": "7f70f44d",
   "metadata": {},
   "outputs": [],
   "source": [
    "# aplicando LabelEncoder nas variáveis categóricas\n",
    "label_encoder = LabelEncoder()"
   ]
  },
  {
   "cell_type": "code",
   "execution_count": 29,
   "id": "f7d7e623",
   "metadata": {},
   "outputs": [],
   "source": [
    "def label_e(column):\n",
    "    df_new[column] = label_encoder.fit_transform(df_new[column])"
   ]
  },
  {
   "cell_type": "code",
   "execution_count": 30,
   "id": "25b857fc",
   "metadata": {},
   "outputs": [],
   "source": [
    "label_e('Sex')\n",
    "sex_class = label_encoder.classes_\n",
    "label_e('BP')\n",
    "bp_class = label_encoder.classes_\n",
    "label_e('Cholesterol')\n",
    "ch_class = label_encoder.classes_\n",
    "label_e('Drug')\n",
    "drug_class = label_encoder.classes_"
   ]
  },
  {
   "cell_type": "code",
   "execution_count": 31,
   "id": "e6187473",
   "metadata": {},
   "outputs": [
    {
     "data": {
      "text/html": [
       "<div>\n",
       "<style scoped>\n",
       "    .dataframe tbody tr th:only-of-type {\n",
       "        vertical-align: middle;\n",
       "    }\n",
       "\n",
       "    .dataframe tbody tr th {\n",
       "        vertical-align: top;\n",
       "    }\n",
       "\n",
       "    .dataframe thead th {\n",
       "        text-align: right;\n",
       "    }\n",
       "</style>\n",
       "<table border=\"1\" class=\"dataframe\">\n",
       "  <thead>\n",
       "    <tr style=\"text-align: right;\">\n",
       "      <th></th>\n",
       "      <th>Age</th>\n",
       "      <th>Sex</th>\n",
       "      <th>BP</th>\n",
       "      <th>Cholesterol</th>\n",
       "      <th>Na_to_K</th>\n",
       "      <th>Drug</th>\n",
       "    </tr>\n",
       "  </thead>\n",
       "  <tbody>\n",
       "    <tr>\n",
       "      <th>0</th>\n",
       "      <td>23</td>\n",
       "      <td>0</td>\n",
       "      <td>0</td>\n",
       "      <td>0</td>\n",
       "      <td>25.355</td>\n",
       "      <td>0</td>\n",
       "    </tr>\n",
       "    <tr>\n",
       "      <th>1</th>\n",
       "      <td>47</td>\n",
       "      <td>1</td>\n",
       "      <td>1</td>\n",
       "      <td>0</td>\n",
       "      <td>13.093</td>\n",
       "      <td>3</td>\n",
       "    </tr>\n",
       "    <tr>\n",
       "      <th>2</th>\n",
       "      <td>47</td>\n",
       "      <td>1</td>\n",
       "      <td>1</td>\n",
       "      <td>0</td>\n",
       "      <td>10.114</td>\n",
       "      <td>3</td>\n",
       "    </tr>\n",
       "    <tr>\n",
       "      <th>3</th>\n",
       "      <td>28</td>\n",
       "      <td>0</td>\n",
       "      <td>2</td>\n",
       "      <td>0</td>\n",
       "      <td>7.798</td>\n",
       "      <td>4</td>\n",
       "    </tr>\n",
       "    <tr>\n",
       "      <th>4</th>\n",
       "      <td>61</td>\n",
       "      <td>0</td>\n",
       "      <td>1</td>\n",
       "      <td>0</td>\n",
       "      <td>18.043</td>\n",
       "      <td>0</td>\n",
       "    </tr>\n",
       "    <tr>\n",
       "      <th>...</th>\n",
       "      <td>...</td>\n",
       "      <td>...</td>\n",
       "      <td>...</td>\n",
       "      <td>...</td>\n",
       "      <td>...</td>\n",
       "      <td>...</td>\n",
       "    </tr>\n",
       "    <tr>\n",
       "      <th>195</th>\n",
       "      <td>56</td>\n",
       "      <td>0</td>\n",
       "      <td>1</td>\n",
       "      <td>0</td>\n",
       "      <td>11.567</td>\n",
       "      <td>3</td>\n",
       "    </tr>\n",
       "    <tr>\n",
       "      <th>196</th>\n",
       "      <td>16</td>\n",
       "      <td>1</td>\n",
       "      <td>1</td>\n",
       "      <td>0</td>\n",
       "      <td>12.006</td>\n",
       "      <td>3</td>\n",
       "    </tr>\n",
       "    <tr>\n",
       "      <th>197</th>\n",
       "      <td>52</td>\n",
       "      <td>1</td>\n",
       "      <td>2</td>\n",
       "      <td>0</td>\n",
       "      <td>9.894</td>\n",
       "      <td>4</td>\n",
       "    </tr>\n",
       "    <tr>\n",
       "      <th>198</th>\n",
       "      <td>23</td>\n",
       "      <td>1</td>\n",
       "      <td>2</td>\n",
       "      <td>1</td>\n",
       "      <td>14.020</td>\n",
       "      <td>4</td>\n",
       "    </tr>\n",
       "    <tr>\n",
       "      <th>199</th>\n",
       "      <td>40</td>\n",
       "      <td>0</td>\n",
       "      <td>1</td>\n",
       "      <td>1</td>\n",
       "      <td>11.349</td>\n",
       "      <td>4</td>\n",
       "    </tr>\n",
       "  </tbody>\n",
       "</table>\n",
       "<p>200 rows × 6 columns</p>\n",
       "</div>"
      ],
      "text/plain": [
       "     Age  Sex  BP  Cholesterol  Na_to_K  Drug\n",
       "0     23    0   0            0   25.355     0\n",
       "1     47    1   1            0   13.093     3\n",
       "2     47    1   1            0   10.114     3\n",
       "3     28    0   2            0    7.798     4\n",
       "4     61    0   1            0   18.043     0\n",
       "..   ...  ...  ..          ...      ...   ...\n",
       "195   56    0   1            0   11.567     3\n",
       "196   16    1   1            0   12.006     3\n",
       "197   52    1   2            0    9.894     4\n",
       "198   23    1   2            1   14.020     4\n",
       "199   40    0   1            1   11.349     4\n",
       "\n",
       "[200 rows x 6 columns]"
      ]
     },
     "metadata": {},
     "output_type": "display_data"
    }
   ],
   "source": [
    "display(df_new)"
   ]
  },
  {
   "cell_type": "markdown",
   "id": "6aea9c00",
   "metadata": {
    "scrolled": true
   },
   "source": [
    "O novo dicionário das variáveis é:\n",
    "\n",
    "[Sex]: ['F' 'M'] = [0 , 1]\n",
    "\n",
    "[BP]: ['HIGH' 'LOW' 'NORMAL'] = [0, 1, 2]\n",
    "\n",
    "[Cholesterol]: ['HIGH' 'NORMAL'] = [0, 1]]\n",
    "\n",
    "[Drug]: ['DrugY' 'drugA' 'drugB' 'drugC' 'drugX'] = [0, 1, 2, 3 , 4]\n",
    "\n",
    "### 2. Construindo o modelo\n",
    "\n",
    "Nessa etapa será realizada uma divisão dos dados em dados de treino e teste. Aqui também será realizada a normalização das features."
   ]
  },
  {
   "cell_type": "code",
   "execution_count": 157,
   "id": "1b3d0b83",
   "metadata": {},
   "outputs": [],
   "source": [
    "X = df_new.drop('Drug', axis = 1)\n",
    "y = df_new.Drug\n",
    "\n",
    "# split dos dados de treino e teste\n",
    "X_train, X_test,y_train,y_test = train_test_split(X,y, stratify=y, shuffle=True)\n",
    "\n",
    "\n",
    "# instanciando modelo de normalização\n",
    "minmaxscaler = MinMaxScaler()\n",
    "\n",
    "\n",
    "# aplicando normalização nos dados de treino e teste\n",
    "X_train_normal = minmaxscaler.fit_transform(X_train)\n",
    "X_test_normal = minmaxscaler.fit_transform(X_test)"
   ]
  },
  {
   "cell_type": "markdown",
   "id": "88f28f2c",
   "metadata": {},
   "source": [
    "### 3. Aplicando Cross-Validation em alguns modelos"
   ]
  },
  {
   "cell_type": "markdown",
   "id": "aa5b38a5",
   "metadata": {},
   "source": [
    "Em cada aplicação dos modelos aqui presentes será usado a métrica acurácia para avaliação. \n",
    "\n",
    "a. LogisticRegression\n",
    "\n",
    "Primeiro será avaliado o modelo de LogisticRegression."
   ]
  },
  {
   "cell_type": "code",
   "execution_count": 161,
   "id": "b4f81c95",
   "metadata": {},
   "outputs": [
    {
     "name": "stdout",
     "output_type": "stream",
     "text": [
      "Scores: [0.73333333 0.76666667 0.76666667 0.83333333 0.86666667]\n",
      "\n",
      "Acurácia: 0.79 (+/- 0.10)\n"
     ]
    }
   ],
   "source": [
    "lr = LogisticRegression()\n",
    "\n",
    "scores = cross_val_score(lr, X_train_normal, y_train, cv = 5)\n",
    "\n",
    "print(\"Scores:\", scores)\n",
    "print(\"\\nAcurácia: %0.2f (+/- %0.2f)\" % (scores.mean(), scores.std() * 2))"
   ]
  },
  {
   "cell_type": "markdown",
   "id": "8cde7c22",
   "metadata": {},
   "source": [
    "b. RandomForest"
   ]
  },
  {
   "cell_type": "code",
   "execution_count": 162,
   "id": "3fa45de3",
   "metadata": {},
   "outputs": [
    {
     "name": "stdout",
     "output_type": "stream",
     "text": [
      "Scores: [1.         1.         1.         0.96666667 1.        ]\n",
      "\n",
      "Acurácia: 0.99 (+/- 0.03)\n"
     ]
    }
   ],
   "source": [
    "rfc = RandomForestClassifier()\n",
    "\n",
    "scores = cross_val_score(rfc, X_train_normal, y_train, cv = 5)\n",
    "\n",
    "print(\"Scores:\", scores)\n",
    "print(\"\\nAcurácia: %0.2f (+/- %0.2f)\" % (scores.mean(), scores.std() * 2))"
   ]
  },
  {
   "cell_type": "markdown",
   "id": "501afad5",
   "metadata": {},
   "source": [
    "c. KNeighbors"
   ]
  },
  {
   "cell_type": "code",
   "execution_count": 163,
   "id": "81b81653",
   "metadata": {},
   "outputs": [
    {
     "name": "stdout",
     "output_type": "stream",
     "text": [
      "Scores: [0.66666667 0.8        0.9        0.7        0.8       ]\n",
      "\n",
      "Acurácia: 0.77 (+/- 0.17)\n"
     ]
    }
   ],
   "source": [
    "knn = KNeighborsClassifier(n_neighbors=3)\n",
    "scores = cross_val_score(knn, X_train_normal, y_train, cv = 5)\n",
    "\n",
    "print(\"Scores:\", scores)\n",
    "print(\"\\nAcurácia: %0.2f (+/- %0.2f)\" % (scores.mean(), scores.std() * 2))"
   ]
  },
  {
   "cell_type": "markdown",
   "id": "c7a10d65",
   "metadata": {},
   "source": [
    "### 4. Aplicação do RandomForestClassifier nos dados de teste"
   ]
  },
  {
   "cell_type": "markdown",
   "id": "ba05901d",
   "metadata": {},
   "source": [
    "Vamos então fazer a aplicação do modelo de RandomClassifier nos dados de teste"
   ]
  },
  {
   "cell_type": "code",
   "execution_count": 164,
   "id": "8cd56445",
   "metadata": {},
   "outputs": [],
   "source": [
    "rfc.fit(X_train_normal, y_train)\n",
    "\n",
    "y_predict = rfc.predict(X_test_normal)"
   ]
  },
  {
   "cell_type": "code",
   "execution_count": 165,
   "id": "9489f722",
   "metadata": {},
   "outputs": [
    {
     "name": "stdout",
     "output_type": "stream",
     "text": [
      "Relatório de Classificação dos dados de teste:\n",
      "               precision    recall  f1-score   support\n",
      "\n",
      "           0    1.00000   1.00000   1.00000        23\n",
      "           1    1.00000   1.00000   1.00000         6\n",
      "           2    1.00000   1.00000   1.00000         4\n",
      "           3    1.00000   1.00000   1.00000         4\n",
      "           4    1.00000   1.00000   1.00000        13\n",
      "\n",
      "    accuracy                        1.00000        50\n",
      "   macro avg    1.00000   1.00000   1.00000        50\n",
      "weighted avg    1.00000   1.00000   1.00000        50\n",
      "\n",
      "Acurácia: 1.0000\n",
      "\n"
     ]
    }
   ],
   "source": [
    "# imprimir relatório de classificação\n",
    "print(\"Relatório de Classificação dos dados de teste:\\n\", classification_report(y_test, y_predict, digits=5))\n",
    "\n",
    "# imprimir a acurácia do modelo\n",
    "print(\"Acurácia: {:.4f}\\n\".format(accuracy_score(y_test, y_predict)))"
   ]
  },
  {
   "cell_type": "markdown",
   "id": "17967efd",
   "metadata": {},
   "source": [
    "## Conclusão"
   ]
  },
  {
   "cell_type": "markdown",
   "id": "1f06eb59",
   "metadata": {},
   "source": [
    "No projeto foi apresentado a maneira de uso da técnica de cross validation para escolha de um modelo de machine learning. Essa técnica tem usa importância por avaliar o modelo antes de ser usado nos dados de testes. Ao usar essa aplicação temos uma garantia que não hoube um ajuste forçado nos dados, overfitting.\n",
    "\n",
    "O projeto usado para o uso do cross validation eram dados sobre 5 medicamentos e os indíviduos que os usavam. As features desses dados eram o sexo, idade, pressão arterial, razão sódio potássio e colesterol dos indíviduos. O cross validation foi aplicado em 3 modelso de classificação: Kneighbors, RandomForest e LogisticRegression. Os resultados mostraram que o algorítimo de RandomForest apresentou a maior acurácia. Quando aplicado o modelo nos dados de testes mostrou uma acurácia de 100%. "
   ]
  },
  {
   "cell_type": "code",
   "execution_count": null,
   "id": "39236e43",
   "metadata": {},
   "outputs": [],
   "source": []
  }
 ],
 "metadata": {
  "kernelspec": {
   "display_name": "Python 3 (ipykernel)",
   "language": "python",
   "name": "python3"
  },
  "language_info": {
   "codemirror_mode": {
    "name": "ipython",
    "version": 3
   },
   "file_extension": ".py",
   "mimetype": "text/x-python",
   "name": "python",
   "nbconvert_exporter": "python",
   "pygments_lexer": "ipython3",
   "version": "3.9.13"
  }
 },
 "nbformat": 4,
 "nbformat_minor": 5
}
